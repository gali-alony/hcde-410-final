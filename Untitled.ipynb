{
 "cells": [
  {
   "cell_type": "markdown",
   "id": "ff5f3ac3-3d2b-4edc-81b0-7ef560306be9",
   "metadata": {},
   "source": [
    "## Motivation & Problem Statement"
   ]
  },
  {
   "cell_type": "markdown",
   "id": "c0b48003-163f-48d2-8c09-ec79ad525938",
   "metadata": {},
   "source": [
    "I am interested in the correlation between where AP tests are offered and to socio-economic status of students living in the United States. Due to the time constrictions of this project, I will focus on counties within Washington. I hope to visualize and learn more about where AP tests are offered in the state and if there is any correlation between socioeconomic factors in addition to race in relation to availability and how many courses are available. It is important to note that I am not considering choice schools that offer advanced classes, I am doing this for simplicity of data since it might be difficult to compare choice schools and AP courses, plus there is much less data on individual schools and where they source their students from.\n"
   ]
  },
  {
   "cell_type": "markdown",
   "id": "39cc3689-ba1c-49b5-8dd1-c0e54fb446e3",
   "metadata": {},
   "source": [
    "# Overview and Research Question "
   ]
  },
  {
   "cell_type": "markdown",
   "id": "b4b52c15-9743-42d5-8605-5a55ce243f38",
   "metadata": {},
   "source": [
    "## Motivation  \n",
    "The motivation for this project is to explore the relationship between the availability of Advanced Placement (AP) courses in high schools and the socio-economic conditions of their surrounding communities. Specifically, I aim to investigate whether schools in economically disadvantaged areas offer fewer AP courses and whether disparities in AP participation rates are linked to socio-economic factors such as income and racial composition. By analyzing these patterns in King County, Washington, this study seeks to better understand how economic and demographic factors influence access to advanced academic opportunities, potentially highlighting areas for policy intervention.\n",
    "\n",
    "\n",
    "\n",
    "## Research Questions\n",
    "__R1:__ How do schools in lower-income areas compare to those in higher-income areas in terms of AP course offerings?  \n",
    "__R2:__ Is there a correlation between the number of AP courses offered at a high school and the socioeconomic status of the surrounding community?\n"
   ]
  },
  {
   "cell_type": "markdown",
   "id": "ca5c5901-6c38-400b-b0db-7f0451de0135",
   "metadata": {},
   "source": [
    "# Background and Related Work"
   ]
  },
  {
   "cell_type": "markdown",
   "id": "265089c5-1a78-4e70-a531-ab9e3e5a0ca9",
   "metadata": {},
   "source": [
    "## What is already known about the phenomenon?\n",
    "The relationship between socio-economic status (SES) and access to educational opportunities, particularly advanced academic programs such as Advanced Placement (AP) courses, has been widely explored in educational research. Studies consistently show that students from higher-income backgrounds are more likely to have access to AP courses and to participate in them, while students from lower-income backgrounds, often in underfunded schools, may face barriers such as fewer available courses, lower participation rates, or lack of preparation (College Board, 2020; Reardon, 2011). Additionally, racial disparities in AP participation have been documented, with Black, Hispanic, and other minority students often underrepresented in AP classes relative to their white peers (Hutchison, 2020).\n",
    "\n",
    "Research has also suggested that school district funding, local economic conditions, and neighborhood socio-economic factors are important determinants of access to these programs. For instance, schools in wealthier neighborhoods tend to offer more AP courses and have better funding to support these programs, such as having teachers trained to teach AP curricula or providing resources for test preparation (Rothstein, 2013). Furthermore, disparities in AP course offerings and participation are not solely driven by SES, as race, ethnicity, and systemic biases also play significant roles in shaping educational opportunities (Ladson-Billings, 2006).\n",
    "\n",
    "## Previous Research on the Phenomenon\n",
    "Several key studies have contributed to our understanding of the relationship between socio-economic status, race, and access to AP courses:\n",
    "\n",
    "Firstly, is \"A Critical Race Analysis of Advanced Placement Classes: A Case of Educational Inequality\" by Daniel G. Solórzano & Armida Ornelas. This paper examines how racial, ethnic, gender, and class-based discrimination impacts access to AP courses for Chicana/Latina students through the lens of Critical Race Theory. Focusing on a school district in California, the study identifies three key patterns: Chicana/Latina students are underrepresented in AP classes, urban, low-income schools serving these communities have lower AP enrollment, and in schools with high overall AP enrollment, Chicana/Latina students are still disproportionately excluded, a phenomenon the authors call “Schools Within Schools.” The study underscores the need for reforms to address these inequities. This research can inform your study by offering a framework for understanding how race and socio-economic status affect AP access and participation, which is directly relevant to your exploration of similar patterns in King County.\n",
    "\n",
    "Next, the College Board has examined national trends in AP participation and performance. Their research indicates that while the overall number of AP courses and students taking AP exams has increased, disparities persist based on socio-economic status and race.\n",
    "\n",
    "\n",
    "## References\n",
    "College Board. (2020). AP Program Participation and Performance Data.Solórzano, D. G., & Ornelas, A. (2002). A Critical Race Analysis of Advanced Placement Classes: A Case of Educational Inequality. Journal of Latinos and Education, 1(4), 215–229. https://doi.org/10.1207/S1532771XJLE0104_2."
   ]
  },
  {
   "cell_type": "markdown",
   "id": "3433685e-f251-4c6c-908c-556dd628a75f",
   "metadata": {},
   "source": [
    "# Methodology "
   ]
  },
  {
   "cell_type": "markdown",
   "id": "0096a7f5-23f5-4af8-939b-b4f9e7eaa36c",
   "metadata": {},
   "source": [
    "## Scope \n",
    "I plan to examine these research questions specifically with King County in Washington state. The reason I am scoping a county as a geographic location is because of the time constraint of this project. Given more time, I would like to examine these research questions towards the entire State of Washington.   \n",
    "\n",
    "## Methods  \n",
    "### Step 1: Data Collection\n",
    "Gather data for all King County high schools from sources like:\n",
    "- State or district education departments.\n",
    "- Public datasets on school performance and demographics.\n",
    "For each school, the location of the data differs depending if it exists on the school district's online page, on  USA Facts, or other sources. I will cite each source accordingly. I will focus on 2023-2024.\n",
    "### Step 2: Descriptive Statistics \n",
    "Once the data is collected, I will conduct an initial analysis using descriptive statistics to provide a summary of the key variables:\n",
    "- Average number of AP courses per high school: This will help understand the typical availability of AP courses across high schools in King County.\n",
    "- Distribution of economically disadvantaged students: I will analyze the percentage of students who are economically disadvantaged using the 'economically disadvantaged percentage' from USA Facts. Additionally, I will include the percentage of students enrolled in free and subsidized lunch programs, as these are direct indicators of socioeconomic status.\n",
    "- Racial composition of schools: I will look at the percentage of students from different racial/ethnic groups at each school, using data from sources such as USA Facts and district-level reports.\n",
    "### Step Three: Statistical Analysis\n",
    "To investigate the relationships between socioeconomic factors, race, and AP course offerings/participation, I will use the following methods:\n",
    "\n",
    "#### Correlation Analysis\n",
    "I will first calculate correlations between the key variables (e.g., percentage of economically disadvantaged students and the number of AP courses offered). This will give a preliminary understanding of how the factors relate to one another.\n",
    "\n",
    "#### Independent Samples T-Test\n",
    "I will use independent samples t-tests to compare the mean number of AP courses offered (and percentage of participation) between schools with high vs. low percentages of economically disadvantaged students. This will help determine if there is a significant difference in AP offerings based on socioeconomic status. I will also perform t-tests comparing AP participation rates between schools with different racial compositions.\n",
    "\n",
    "#### Regression Analysis\n",
    "To assess the strength of the relationships between the independent variables (e.g., economic indicators and race) and the dependent variables (e.g., number of AP courses and participation rates), I will use ordinary least squares (OLS) regression. This will help quantify how much of the variation in AP courses and participation can be explained by the socioeconomic and racial variables.\n",
    "\n",
    "### Step 4: Data Visualizations\n",
    "Visual representations will be essential to convey the findings in a clear and impactful way:\n",
    "\n",
    "- Bar Charts: I will create bar charts comparing the number of AP courses offered and the percentage of students participating in AP programs across schools. This will allow for easy visual comparison of AP course availability and student engagement by school.\n",
    "- Heat Maps: To better visualize the geographic distribution of economic and racial indicators, I will use heat maps showing the percentage of economically disadvantaged students and the racial composition of schools across King County. These maps will provide a spatial overview of the factors influencing AP availability and participation.\n",
    "- Scatter Plots (Optional): If appropriate, I will use scatter plots to visually examine the relationship between continuous variables (e.g., the percentage of economically disadvantaged students and the number of AP courses offered).\n",
    "\n",
    "### Step 5: Presentation of Results\n",
    "The results will be presented through a combination of:\n",
    "\n",
    "- Summary tables that show the key descriptive statistics and results of statistical tests (e.g., t-tests and regression analyses).\n",
    "- Visualizations (bar charts, heat maps, and scatter plots) to illustrate the findings more effectively and make them accessible to non-technical audiences.\n",
    "- Interpretation of model coefficients in the regression analysis, which will explain the effect size of each variable and help to draw conclusions about how socio-economic and racial factors influence AP course availability and participation.\n",
    "#### Why These Methods Are Appropriate\n",
    "- Descriptive Statistics will provide an initial overview of the data and allow for identification of trends or outliers.\n",
    "- T-tests and regression analysis are both appropriate statistical methods for comparing means between groups and quantifying relationships between variables. They will help determine whether significant differences exist in AP course offerings/participation based on socio-economic or racial factors.\n",
    "- Data visualization (bar charts, heat maps) will help communicate the findings in a way that is visually compelling and easy to understand, especially when examining patterns across geographic locations or groups.\n",
    "\n",
    "By employing these analytical methods, I aim to provide a clear and thorough understanding of how socio-economic and racial factors influence access to AP courses in King County high schools, and offer insights into potential areas for policy interventions.\n",
    "\n",
    "\n"
   ]
  },
  {
   "cell_type": "markdown",
   "id": "21ebe37e-047b-4112-b8e7-581bff369d08",
   "metadata": {},
   "source": [
    "## Data Selected "
   ]
  },
  {
   "cell_type": "markdown",
   "id": "439b8c3c-7e54-4977-96f9-c068a51a6c5b",
   "metadata": {},
   "source": [
    "#### Ledger Search (AP college board) - schools that offer AP course\n",
    "search for Washington, \n",
    "- I will need to create a data sheet by hand for this data!\n",
    "- https://apcourseaudit.inflexion.org/ledger/search?country=US \n",
    "- https://apstudents.collegeboard.org/ap-around-the-world/find-schools-that-offer-authorized-ap-courses\n",
    "#### Median household income by county (Washington) 1989-2022\n",
    "https://ofm.wa.gov/washington-data-research/economy-and-labor-force/median-household-income-estimates \n",
    "#### AP availability (by state) 2019-2023\n",
    "- https://apcentral.collegeboard.org/about-ap/ap-data-research/national-state-data#:~:text=AP%20Availability&text=79%25%20of%20public%20high%20school,the%202022%2D2023%20school%20year. \n",
    "#### AP participation (by state) 2012-2023\n",
    "- https://apcentral.collegeboard.org//about-ap/ap-data-research/national-state-data/archive \n",
    "#### Data USA for each county in Washington\n",
    "- https://datausa.io/profile/geo/snohomish-county-wa \n",
    "\n",
    "\n",
    "I plan to use the above four datasets. One will inform me of the geographic locations of schools in Washington that offer AP courses (Ledger Search). This will allow me to map the number of schools that offer AP courses in each Washington county. The second set is from the Washington government website, showing the median household income by county, and will inform me of the income statistics of households per county. It will help me add to the same map the income median for households of each county and further to see if there is a correlation with AP testing. The third is AP availability per state by student race/ethnicity. This data does not relate to geography, only the entire state, but it might help me understand geographic connotations. The fourth is AP participation of Washington state by ethnicity/race, this one also does not break it down for each county but it could help me understand the data further. The fifth data set shows the race/ethnic populations by percentage for each county in Washington. This data will help me correlate to the other data sets that examine ethnicity and race.  All data sets are public datasets. "
   ]
  },
  {
   "cell_type": "markdown",
   "id": "849b0b29-6864-437b-94fc-a0af1b03896b",
   "metadata": {},
   "source": [
    "## Unknowns and Dependencies"
   ]
  },
  {
   "cell_type": "markdown",
   "id": "bba25502-708f-4d14-b8e2-abfeb30d5138",
   "metadata": {},
   "source": [
    "Unfortunately, I have not found geographic data more specific to race/ethnicity within counties. The most zoomed-in geographic data I could find is by county. Additionally, there may or may not be a correlation between AP offering and economic standing, usually, there is a huge range of factors that affect academic success (and that measure academic success). These can include choice of schools offered, grades and success in courses, college acceptance stats, and graduation stats for high school and colleges. If I had the time and resources I would examine all of these factors and more. However, due to the short time I have to complete this project, there will be missing statistics to further indicate correlations and more complex ideas regarding academic success. Additionally, from feedback in class, I decided to incorporate more specific data including looking at the counties in Washington rather than a huge overview of the United States."
   ]
  }
 ],
 "metadata": {
  "kernelspec": {
   "display_name": "Python 3 (ipykernel)",
   "language": "python",
   "name": "python3"
  },
  "language_info": {
   "codemirror_mode": {
    "name": "ipython",
    "version": 3
   },
   "file_extension": ".py",
   "mimetype": "text/x-python",
   "name": "python",
   "nbconvert_exporter": "python",
   "pygments_lexer": "ipython3",
   "version": "3.10.13"
  }
 },
 "nbformat": 4,
 "nbformat_minor": 5
}
